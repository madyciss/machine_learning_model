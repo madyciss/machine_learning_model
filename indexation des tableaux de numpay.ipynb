{
 "cells": [
  {
   "cell_type": "code",
   "execution_count": 145,
   "id": "a0b7d4bd",
   "metadata": {},
   "outputs": [],
   "source": [
    "import numpy as np\n",
    "import matplotlib.pyplot as plt "
   ]
  },
  {
   "cell_type": "code",
   "execution_count": 106,
   "id": "5f665586",
   "metadata": {},
   "outputs": [
    {
     "data": {
      "text/plain": [
       "array([[2., 0., 7., 5.],\n",
       "       [2., 6., 9., 0.],\n",
       "       [5., 8., 1., 8.]])"
      ]
     },
     "execution_count": 106,
     "metadata": {},
     "output_type": "execute_result"
    }
   ],
   "source": [
    "a=np.floor(10*np.random.random((3,4)))\n",
    "a"
   ]
  },
  {
   "cell_type": "code",
   "execution_count": 107,
   "id": "63184e99",
   "metadata": {},
   "outputs": [
    {
     "data": {
      "text/plain": [
       "array([[0., 7.],\n",
       "       [6., 9.]])"
      ]
     },
     "execution_count": 107,
     "metadata": {},
     "output_type": "execute_result"
    }
   ],
   "source": [
    "a[:2, 1:3]"
   ]
  },
  {
   "cell_type": "code",
   "execution_count": 108,
   "id": "bc99c7e7",
   "metadata": {},
   "outputs": [
    {
     "data": {
      "text/plain": [
       "array([[0., 7., 5.],\n",
       "       [6., 9., 0.],\n",
       "       [8., 1., 8.]])"
      ]
     },
     "execution_count": 108,
     "metadata": {},
     "output_type": "execute_result"
    }
   ],
   "source": [
    "a[:3, 1:]"
   ]
  },
  {
   "cell_type": "code",
   "execution_count": 109,
   "id": "e642e076",
   "metadata": {},
   "outputs": [
    {
     "data": {
      "text/plain": [
       "array([[7., 5.],\n",
       "       [9., 0.]])"
      ]
     },
     "execution_count": 109,
     "metadata": {},
     "output_type": "execute_result"
    }
   ],
   "source": [
    "a[:2, 2:4]"
   ]
  },
  {
   "cell_type": "code",
   "execution_count": 46,
   "id": "6396c320",
   "metadata": {},
   "outputs": [
    {
     "data": {
      "text/plain": [
       "array([[0., 8., 5.],\n",
       "       [5., 7., 1.]])"
      ]
     },
     "execution_count": 46,
     "metadata": {},
     "output_type": "execute_result"
    }
   ],
   "source": [
    "a[1:3, 1:4]"
   ]
  },
  {
   "cell_type": "code",
   "execution_count": 47,
   "id": "5c1dc064",
   "metadata": {},
   "outputs": [
    {
     "data": {
      "text/plain": [
       "array([[ 1,  2,  3,  4],\n",
       "       [ 5,  6,  7,  8],\n",
       "       [ 9, 10, 11, 12]])"
      ]
     },
     "execution_count": 47,
     "metadata": {},
     "output_type": "execute_result"
    }
   ],
   "source": [
    "b=np.array([[1,2,3,4],[5,6,7,8],[9,10,11,12]])\n",
    "b"
   ]
  },
  {
   "cell_type": "code",
   "execution_count": 49,
   "id": "4c8af5e9",
   "metadata": {},
   "outputs": [
    {
     "data": {
      "text/plain": [
       "array([[ 6,  7],\n",
       "       [10, 11]])"
      ]
     },
     "execution_count": 49,
     "metadata": {},
     "output_type": "execute_result"
    }
   ],
   "source": [
    "b[1:3, 1:3]"
   ]
  },
  {
   "cell_type": "code",
   "execution_count": 50,
   "id": "c68fc0fd",
   "metadata": {},
   "outputs": [
    {
     "data": {
      "text/plain": [
       "array([[ 2,  3],\n",
       "       [ 6,  7],\n",
       "       [10, 11]])"
      ]
     },
     "execution_count": 50,
     "metadata": {},
     "output_type": "execute_result"
    }
   ],
   "source": [
    "b[:3, 1:3]"
   ]
  },
  {
   "cell_type": "code",
   "execution_count": 55,
   "id": "23f5f953",
   "metadata": {},
   "outputs": [
    {
     "data": {
      "text/plain": [
       "array([[1],\n",
       "       [5],\n",
       "       [9]])"
      ]
     },
     "execution_count": 55,
     "metadata": {},
     "output_type": "execute_result"
    }
   ],
   "source": [
    "b[:3, :1]"
   ]
  },
  {
   "cell_type": "code",
   "execution_count": 57,
   "id": "803ca278",
   "metadata": {},
   "outputs": [
    {
     "data": {
      "text/plain": [
       "array([[ 2.,  0.,  4.,  0.,  1.,  2.,  3.,  4.],\n",
       "       [ 0.,  0.,  8.,  5.,  5.,  6.,  7.,  8.],\n",
       "       [ 5.,  5.,  7.,  1.,  9., 10., 11., 12.]])"
      ]
     },
     "execution_count": 57,
     "metadata": {},
     "output_type": "execute_result"
    }
   ],
   "source": [
    "c = np.concatenate((a, b), axis = 1)\n",
    "c"
   ]
  },
  {
   "cell_type": "code",
   "execution_count": 59,
   "id": "786cefa8",
   "metadata": {},
   "outputs": [
    {
     "data": {
      "text/plain": [
       "array([[ 1.,  2.,  3.,  4.],\n",
       "       [ 5.,  6.,  7.,  8.],\n",
       "       [ 9., 10., 11., 12.]])"
      ]
     },
     "execution_count": 59,
     "metadata": {},
     "output_type": "execute_result"
    }
   ],
   "source": [
    "c[:3, 4:]"
   ]
  },
  {
   "cell_type": "code",
   "execution_count": 61,
   "id": "3c47f1ec",
   "metadata": {},
   "outputs": [
    {
     "data": {
      "text/plain": [
       "array([[5., 7.]])"
      ]
     },
     "execution_count": 61,
     "metadata": {},
     "output_type": "execute_result"
    }
   ],
   "source": [
    "c[2:3, 1:3]"
   ]
  },
  {
   "cell_type": "code",
   "execution_count": 62,
   "id": "b9e76139",
   "metadata": {},
   "outputs": [
    {
     "data": {
      "text/plain": [
       "array([[4., 0., 1., 2., 3.],\n",
       "       [8., 5., 5., 6., 7.]])"
      ]
     },
     "execution_count": 62,
     "metadata": {},
     "output_type": "execute_result"
    }
   ],
   "source": [
    "c[:2, 2:7]"
   ]
  },
  {
   "cell_type": "code",
   "execution_count": 63,
   "id": "320ac835",
   "metadata": {},
   "outputs": [
    {
     "data": {
      "text/plain": [
       "array([[  2.,   0.,   4.,   0.,   1.,   2.,   3.,   4.],\n",
       "       [  0.,   0.,   8.,   5., 100., 100., 100., 100.],\n",
       "       [  5.,   5.,   7.,   1., 100., 100., 100., 100.]])"
      ]
     },
     "execution_count": 63,
     "metadata": {},
     "output_type": "execute_result"
    }
   ],
   "source": [
    "c[1:3, 4:] = 100\n",
    "c"
   ]
  },
  {
   "cell_type": "code",
   "execution_count": 65,
   "id": "eeae4f4a",
   "metadata": {},
   "outputs": [
    {
     "data": {
      "text/plain": [
       "array([[  2.,   0.,   4.,   0.,   1.,   2.,   3.,   4.],\n",
       "       [  0.,   0.,  50.,   5., 100., 100., 100., 100.],\n",
       "       [  5.,   5.,   7.,   1., 100., 100., 100., 100.]])"
      ]
     },
     "execution_count": 65,
     "metadata": {},
     "output_type": "execute_result"
    }
   ],
   "source": [
    "c[1,2] = 50\n",
    "c"
   ]
  },
  {
   "cell_type": "code",
   "execution_count": 77,
   "id": "535e7df9",
   "metadata": {},
   "outputs": [
    {
     "data": {
      "text/plain": [
       "array([[  2.,   0., 200., 200.],\n",
       "       [200., 300., 200.,   4.],\n",
       "       [  0., 300., 300., 300.],\n",
       "       [300., 300., 300., 100.],\n",
       "       [  5., 300., 300., 300.],\n",
       "       [300., 300., 300., 100.]])"
      ]
     },
     "execution_count": 77,
     "metadata": {},
     "output_type": "execute_result"
    }
   ],
   "source": [
    "c[:2, 2:-1] = 200\n",
    "c"
   ]
  },
  {
   "cell_type": "code",
   "execution_count": 67,
   "id": "fa646b8d",
   "metadata": {},
   "outputs": [
    {
     "data": {
      "text/plain": [
       "(3, 8)"
      ]
     },
     "execution_count": 67,
     "metadata": {},
     "output_type": "execute_result"
    }
   ],
   "source": [
    "c.shape"
   ]
  },
  {
   "cell_type": "code",
   "execution_count": 78,
   "id": "6d5be312",
   "metadata": {},
   "outputs": [
    {
     "data": {
      "text/plain": [
       "array([[  2.,   0., 200., 200.],\n",
       "       [200., 300., 200.,   4.],\n",
       "       [  0., 300., 300., 300.],\n",
       "       [300., 300., 300., 100.],\n",
       "       [  5., 300., 300., 300.],\n",
       "       [300., 300., 300., 100.]])"
      ]
     },
     "execution_count": 78,
     "metadata": {},
     "output_type": "execute_result"
    }
   ],
   "source": [
    "c = c.reshape(6, 4)\n",
    "c"
   ]
  },
  {
   "cell_type": "code",
   "execution_count": 87,
   "id": "e55d346f",
   "metadata": {},
   "outputs": [
    {
     "data": {
      "text/plain": [
       "array([[100., 200., 200., 200.],\n",
       "       [100., 400., 400., 200.],\n",
       "       [100., 400., 400., 300.],\n",
       "       [100., 400., 400., 100.],\n",
       "       [100., 400., 400., 300.],\n",
       "       [100., 300., 300., 100.]])"
      ]
     },
     "execution_count": 87,
     "metadata": {},
     "output_type": "execute_result"
    }
   ],
   "source": [
    "c[1:5, 1:-1] = 400\n",
    "c"
   ]
  },
  {
   "cell_type": "code",
   "execution_count": 88,
   "id": "5efefeb3",
   "metadata": {},
   "outputs": [
    {
     "data": {
      "text/plain": [
       "array([[100., 200., 200., 200.],\n",
       "       [100., 400., 400., 200.],\n",
       "       [100., 400., 400., 300.],\n",
       "       [100., 400., 400., 100.],\n",
       "       [100., 400., 400., 300.],\n",
       "       [100., 300., 300., 100.]])"
      ]
     },
     "execution_count": 88,
     "metadata": {},
     "output_type": "execute_result"
    }
   ],
   "source": [
    "c[:6, :-3 ] = 100\n",
    "c"
   ]
  },
  {
   "cell_type": "code",
   "execution_count": 89,
   "id": "8a1fefb7",
   "metadata": {},
   "outputs": [
    {
     "data": {
      "text/plain": [
       "array([[100., 200., 200., 200.],\n",
       "       [100., 400., 400., 200.],\n",
       "       [100., 400., 400., 300.],\n",
       "       [100., 400., 400., 100.],\n",
       "       [100., 400., 400., 300.],\n",
       "       [100., 300., 300., 100.]])"
      ]
     },
     "execution_count": 89,
     "metadata": {},
     "output_type": "execute_result"
    }
   ],
   "source": [
    "c[:1, 1:] = 200\n",
    "c"
   ]
  },
  {
   "cell_type": "code",
   "execution_count": 91,
   "id": "99b2c335",
   "metadata": {},
   "outputs": [
    {
     "data": {
      "text/plain": [
       "array([[100., 200., 200., 200.],\n",
       "       [100., 400., 400., 300.],\n",
       "       [100., 400., 400., 300.],\n",
       "       [100., 400., 400., 300.],\n",
       "       [100., 400., 400., 300.],\n",
       "       [100., 300., 300., 300.]])"
      ]
     },
     "execution_count": 91,
     "metadata": {},
     "output_type": "execute_result"
    }
   ],
   "source": [
    "c[1:6, 3:] = 300\n",
    "c"
   ]
  },
  {
   "cell_type": "code",
   "execution_count": 96,
   "id": "ab6186ed",
   "metadata": {},
   "outputs": [
    {
     "data": {
      "text/plain": [
       "array([[100., 200., 200., 200.],\n",
       "       [100., 400., 400., 300.],\n",
       "       [100., 400., 400., 300.],\n",
       "       [100., 400., 400., 300.],\n",
       "       [100., 400., 400., 300.],\n",
       "       [400., 400., 400., 300.]])"
      ]
     },
     "execution_count": 96,
     "metadata": {},
     "output_type": "execute_result"
    }
   ],
   "source": [
    "c[5:, :-1] = 400\n",
    "c"
   ]
  },
  {
   "cell_type": "code",
   "execution_count": 98,
   "id": "74bbb4e2",
   "metadata": {},
   "outputs": [
    {
     "data": {
      "text/plain": [
       "array([[100., 200., 200., 200.],\n",
       "       [100., 500., 500., 300.],\n",
       "       [100., 500., 500., 300.],\n",
       "       [100., 500., 500., 300.],\n",
       "       [100., 500., 500., 300.],\n",
       "       [400., 400., 400., 300.]])"
      ]
     },
     "execution_count": 98,
     "metadata": {},
     "output_type": "execute_result"
    }
   ],
   "source": [
    "c[1:5, 1:3] = 500\n",
    "c"
   ]
  },
  {
   "cell_type": "code",
   "execution_count": 100,
   "id": "6d81e7d1",
   "metadata": {},
   "outputs": [
    {
     "data": {
      "text/plain": [
       "array([[100., 200., 200., 200.],\n",
       "       [100., 500., 500., 300.],\n",
       "       [100., 600., 600., 300.],\n",
       "       [100., 600., 600., 300.],\n",
       "       [100., 500., 500., 300.],\n",
       "       [400., 400., 400., 300.]])"
      ]
     },
     "execution_count": 100,
     "metadata": {},
     "output_type": "execute_result"
    }
   ],
   "source": [
    "c[2:4, 1:3] = 600\n",
    "c"
   ]
  },
  {
   "cell_type": "code",
   "execution_count": 136,
   "id": "c70d50c4",
   "metadata": {},
   "outputs": [
    {
     "data": {
      "image/png": "[encoded data removed]",
      "text/plain": [
       "<Figure size 432x288 with 1 Axes>"
      ]
     },
     "metadata": {
      "needs_background": "light"
     },
     "output_type": "display_data"
    }
   ],
   "source": [
    "x = np.linspace(0, 10)\n",
    "y = x**2 - 2\n",
    "plt.xlabel(\"axes x\")\n",
    "plt.ylabel('axes y')\n",
    "#plt.xlim(0, 20)\n",
    "#plt.ylim(0, 120)\n",
    "plt.title('Figure 1')\n",
    "plt.plot(x, y, 'r', lw=10, ls=\":\")\n",
    "plt.legend('rouge')\n",
    "plt.grid()"
   ]
  },
  {
   "cell_type": "code",
   "execution_count": 139,
   "id": "e32fbe12",
   "metadata": {},
   "outputs": [
    {
     "data": {
      "text/plain": [
       "Text(0, 0.5, 'Ventes')"
      ]
     },
     "execution_count": 139,
     "metadata": {},
     "output_type": "execute_result"
    },
    {
     "data": {
      "image/png": "[encoded data removed]",
      "text/plain": [
       "<Figure size 576x396 with 1 Axes>"
      ]
     },
     "metadata": {},
     "output_type": "display_data"
    }
   ],
   "source": [
    "T = [15.4, 14.9, 13.2, 18.5, 21.1, 13.4, 22.2, 28.7, 16.8, 23.7, 18.3]\n",
    "V = [323, 175, 345, 420, 512, 484, 600, 522, 433, 424, 423]\n",
    "plt.scatter(T, V, marker = 'd', s=100, c='black', edgecolor='black')\n",
    "plt.title('Glace vs température')\n",
    "plt.style.use('seaborn')\n",
    "plt.xlabel(\"Température\")\n",
    "plt.ylabel(\"Ventes\")"
   ]
  },
  {
   "cell_type": "code",
   "execution_count": 146,
   "id": "4065ba2f",
   "metadata": {},
   "outputs": [],
   "source": [
    "import pandas as pd"
   ]
  },
  {
   "cell_type": "code",
   "execution_count": 148,
   "id": "70e438f3",
   "metadata": {},
   "outputs": [
    {
     "name": "stderr",
     "output_type": "stream",
     "text": [
      "<ipython-input-148-1e73f67b6bef>:5: MatplotlibDeprecationWarning: Case-insensitive properties were deprecated in 3.3 and support will be removed two minor releases later\n",
      "  plt.scatter(x, y, marker='h', s=100, Alpha =0.6, color='blue')\n"
     ]
    },
    {
     "data": {
      "text/plain": [
       "Text(0, 0.5, 'Ventes')"
      ]
     },
     "execution_count": 148,
     "metadata": {},
     "output_type": "execute_result"
    },
    {
     "data": {
      "image/png": "[encoded data removed]",
      "text/plain": [
       "<Figure size 576x396 with 1 Axes>"
      ]
     },
     "metadata": {},
     "output_type": "display_data"
    }
   ],
   "source": [
    "plt.style.use('seaborn')\n",
    "data = pd.read_csv('ventes-scatter.csv')\n",
    "x = data['Nombre de mois']\n",
    "y = data['Revenue']\n",
    "plt.scatter(x, y, marker='h', s=100, Alpha =0.6, color='blue')\n",
    "plt.title('Ventes en fonction de mois')\n",
    "plt.xlabel('Mois')\n",
    "plt.ylabel('Ventes')"
   ]
  },
  {
   "cell_type": "code",
   "execution_count": null,
   "id": "594e8caa",
   "metadata": {},
   "outputs": [],
   "source": []
  },
  {
   "cell_type": "code",
   "execution_count": null,
   "id": "5d63376c",
   "metadata": {},
   "outputs": [],
   "source": []
  }
 ],
 "metadata": {
  "kernelspec": {
   "display_name": "Python 3",
   "language": "python",
   "name": "python3"
  },
  "language_info": {
   "codemirror_mode": {
    "name": "ipython",
    "version": 3
   },
   "file_extension": ".py",
   "mimetype": "text/x-python",
   "name": "python",
   "nbconvert_exporter": "python",
   "pygments_lexer": "ipython3",
   "version": "3.8.8"
  }
 },
 "nbformat": 4,
 "nbformat_minor": 5
}
