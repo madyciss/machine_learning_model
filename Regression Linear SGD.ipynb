{
 "cells": [
  {
   "cell_type": "code",
   "execution_count": null,
   "id": "2112f67b",
   "metadata": {},
   "outputs": [],
   "source": [
    "import numpy as np\n",
    "from sklearn.datasets import make_regression\n",
    "import matplotlib.pyplot as plt"
   ]
  },
  {
   "cell_type": "markdown",
   "id": "3cdc4db4",
   "metadata": {},
   "source": [
    "# 1. Dataset"
   ]
  },
  {
   "cell_type": "code",
   "execution_count": 3,
   "id": "6b1d537f",
   "metadata": {},
   "outputs": [],
   "source": [
    "x, y = make_regression(n_samples= 100, n_features= 1, noise=10)\n",
    "#y = y + abs(y/2) #Pour une regression polynomiale "
   ]
  },
  {
   "cell_type": "code",
   "execution_count": null,
   "id": "5cde13d7",
   "metadata": {},
   "outputs": [],
   "source": [
    "plt.scatter(x, y)"
   ]
  },
  {
   "cell_type": "code",
   "execution_count": 5,
   "id": "c5163bbc",
   "metadata": {},
   "outputs": [
    {
     "name": "stdout",
     "output_type": "stream",
     "text": [
      "(100, 1)\n",
      "(100, 1)\n"
     ]
    }
   ],
   "source": [
    "print(x.shape)\n",
    "y = y.reshape(y.shape[0], 1)\n",
    "print(y.shape)"
   ]
  },
  {
   "cell_type": "code",
   "execution_count": 11,
   "id": "8a895de8",
   "metadata": {},
   "outputs": [
    {
     "data": {
      "text/plain": [
       "(100, 2)"
      ]
     },
     "execution_count": 11,
     "metadata": {},
     "output_type": "execute_result"
    }
   ],
   "source": [
    "# matrice X\n",
    "X = np.hstack((x, np.ones(x.shape)))\n",
    "#X = np.hstack((x**2, X)) #Pour une regression polynomiale de degre 2\n",
    "X.shape"
   ]
  },
  {
   "cell_type": "code",
   "execution_count": 13,
   "id": "28286661",
   "metadata": {},
   "outputs": [
    {
     "data": {
      "text/plain": [
       "array([[ 0.21946829],\n",
       "       [-0.67130549]])"
      ]
     },
     "execution_count": 13,
     "metadata": {},
     "output_type": "execute_result"
    }
   ],
   "source": [
    "teta = np.random.randn(2, 1) \n",
    "# teta = np.random.randn(2, 1) #Pour une regression polynomiale de degre 2\n",
    "teta"
   ]
  },
  {
   "cell_type": "markdown",
   "id": "59904bc7",
   "metadata": {},
   "source": [
    "# 2. Model"
   ]
  },
  {
   "cell_type": "code",
   "execution_count": 14,
   "id": "659b5455",
   "metadata": {},
   "outputs": [],
   "source": [
    "def model(X, teta):\n",
    "    return X.dot(teta)"
   ]
  },
  {
   "cell_type": "code",
   "execution_count": 17,
   "id": "0be79e2a",
   "metadata": {},
   "outputs": [
    {
     "data": {
      "text/plain": [
       "[<matplotlib.lines.Line2D at 0x20e6d2f3ca0>]"
      ]
     },
     "execution_count": 17,
     "metadata": {},
     "output_type": "execute_result"
    },
    {
     "data": {
      "image/png": "[encoded data removed]",
      "text/plain": [
       "<Figure size 432x288 with 1 Axes>"
      ]
     },
     "metadata": {
      "needs_background": "light"
     },
     "output_type": "display_data"
    }
   ],
   "source": [
    "plt.scatter(x, y)\n",
    "plt.plot(x, model(X, teta), c='r')"
   ]
  },
  {
   "cell_type": "markdown",
   "id": "d7561975",
   "metadata": {},
   "source": [
    "# 3. La fonction Cout"
   ]
  },
  {
   "cell_type": "code",
   "execution_count": 21,
   "id": "a0e01153",
   "metadata": {},
   "outputs": [],
   "source": [
    "def fonct_cout(X, y, teta):\n",
    "    m = len(y)\n",
    "    return 1/(2*m)* np.sum((model(X, teta) - y)**2)"
   ]
  },
  {
   "cell_type": "code",
   "execution_count": 22,
   "id": "09c433f2",
   "metadata": {},
   "outputs": [
    {
     "data": {
      "text/plain": [
       "1798.0367080010108"
      ]
     },
     "execution_count": 22,
     "metadata": {},
     "output_type": "execute_result"
    }
   ],
   "source": [
    "fonct_cout(X, y, teta)"
   ]
  },
  {
   "cell_type": "markdown",
   "id": "578226b6",
   "metadata": {},
   "source": [
    "# 4. Descente de Gradient"
   ]
  },
  {
   "cell_type": "code",
   "execution_count": 26,
   "id": "feadc8ca",
   "metadata": {},
   "outputs": [],
   "source": [
    "def grad(X, y, teta):\n",
    "    m = len(y)\n",
    "    return 1/m * X.T.dot(model(X, teta) - y)"
   ]
  },
  {
   "cell_type": "code",
   "execution_count": 39,
   "id": "e814f817",
   "metadata": {},
   "outputs": [],
   "source": [
    "def gradient_descent(X, y, teta, learning_rate, n_iterations):\n",
    "    cost_history = np.zeros(n_iterations)\n",
    "    for i in range(0, n_iterations):\n",
    "        teta = teta - learning_rate * grad(X, y, teta)\n",
    "        cost_history[i] = fonct_cout(X, y, teta)\n",
    "    return teta, cost_history\n",
    "    "
   ]
  },
  {
   "cell_type": "markdown",
   "id": "b5001f06",
   "metadata": {},
   "source": [
    "# 5. Entrainement de model"
   ]
  },
  {
   "cell_type": "code",
   "execution_count": 40,
   "id": "79036845",
   "metadata": {},
   "outputs": [
    {
     "data": {
      "text/plain": [
       "array([[52.23956588],\n",
       "       [ 0.53481366]])"
      ]
     },
     "execution_count": 40,
     "metadata": {},
     "output_type": "execute_result"
    }
   ],
   "source": [
    "teta_final, cost_history = gradient_descent(X, y, teta, learning_rate=0.01, n_iterations=1000)\n",
    "teta_final"
   ]
  },
  {
   "cell_type": "code",
   "execution_count": 32,
   "id": "2958ced4",
   "metadata": {},
   "outputs": [
    {
     "data": {
      "text/plain": [
       "[<matplotlib.lines.Line2D at 0x20e6fd59b20>]"
      ]
     },
     "execution_count": 32,
     "metadata": {},
     "output_type": "execute_result"
    },
    {
     "data": {
      "image/png": "[encoded data removed]",
      "text/plain": [
       "<Figure size 432x288 with 1 Axes>"
      ]
     },
     "metadata": {
      "needs_background": "light"
     },
     "output_type": "display_data"
    }
   ],
   "source": [
    "prediction = model(X, teta_final)\n",
    "plt.scatter(x, y)\n",
    "plt.plot(x, prediction, c='r')"
   ]
  },
  {
   "cell_type": "markdown",
   "id": "a392a7a8",
   "metadata": {},
   "source": [
    "# 6. Courbe d'apprentissage"
   ]
  },
  {
   "cell_type": "code",
   "execution_count": 41,
   "id": "1bb91138",
   "metadata": {},
   "outputs": [
    {
     "data": {
      "text/plain": [
       "[<matplotlib.lines.Line2D at 0x20e70298730>]"
      ]
     },
     "execution_count": 41,
     "metadata": {},
     "output_type": "execute_result"
    },
    {
     "data": {
      "image/png": "[encoded data removed]",
      "text/plain": [
       "<Figure size 432x288 with 1 Axes>"
      ]
     },
     "metadata": {
      "needs_background": "light"
     },
     "output_type": "display_data"
    }
   ],
   "source": [
    "plt.plot(range(1000), cost_history)"
   ]
  },
  {
   "cell_type": "markdown",
   "id": "90a0a965",
   "metadata": {},
   "source": [
    "# 7. Coefficient de détermination\n",
    "**Pour évaluer la performance d'un modél de régression, on peut utiliser le coefficient de détermination**"
   ]
  },
  {
   "cell_type": "code",
   "execution_count": 44,
   "id": "f5955fea",
   "metadata": {},
   "outputs": [],
   "source": [
    "def coef_determination(y, pred):\n",
    "    u = ((y - pred)**2).sum()\n",
    "    v = ((y - y.mean())**2).sum()\n",
    "    return 1 - u/v"
   ]
  },
  {
   "cell_type": "code",
   "execution_count": 45,
   "id": "1cfe2ade",
   "metadata": {},
   "outputs": [
    {
     "data": {
      "text/plain": [
       "0.9689384237278689"
      ]
     },
     "execution_count": 45,
     "metadata": {},
     "output_type": "execute_result"
    }
   ],
   "source": [
    "coef_determination(y, prediction)"
   ]
  },
  {
   "cell_type": "raw",
   "id": "96864fd0",
   "metadata": {},
   "source": [
    "\n",
    "\n"
   ]
  }
 ],
 "metadata": {
  "kernelspec": {
   "display_name": "Python 3",
   "language": "python",
   "name": "python3"
  },
  "language_info": {
   "codemirror_mode": {
    "name": "ipython",
    "version": 3
   },
   "file_extension": ".py",
   "mimetype": "text/x-python",
   "name": "python",
   "nbconvert_exporter": "python",
   "pygments_lexer": "ipython3",
   "version": "3.8.8"
  }
 },
 "nbformat": 4,
 "nbformat_minor": 5
}
