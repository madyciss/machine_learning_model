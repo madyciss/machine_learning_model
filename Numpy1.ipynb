{
 "cells": [
  {
   "cell_type": "code",
   "execution_count": 1,
   "id": "6eb59b62",
   "metadata": {},
   "outputs": [],
   "source": [
    "import numpy as np"
   ]
  },
  {
   "cell_type": "code",
   "execution_count": null,
   "id": "4f9b627d",
   "metadata": {},
   "outputs": [],
   "source": [
    "\"\"\"\n",
    "Pour créer un tableau d’une seule dimension, il suffit de faire appel à la fonction array().\n",
    "    Remarque :\n",
    "Le principe de dimension est simple. Pour un tableau d’une seule dimension on a une liste, \n",
    "pour deux dimensions on a une liste de listes, pour trois dimensions on a une liste de listes de listes. \n",
    "Pour n dimensions on a une liste de n-1 listes imbriquées.\n",
    "\"\"\""
   ]
  },
  {
   "cell_type": "code",
   "execution_count": 2,
   "id": "b3901b6d",
   "metadata": {},
   "outputs": [
    {
     "data": {
      "text/plain": [
       "array([1, 2, 3])"
      ]
     },
     "execution_count": 2,
     "metadata": {},
     "output_type": "execute_result"
    }
   ],
   "source": [
    "A = np.array([1, 2, 3])\n",
    "A"
   ]
  },
  {
   "cell_type": "code",
   "execution_count": 3,
   "id": "0a07c8f4",
   "metadata": {},
   "outputs": [
    {
     "data": {
      "text/plain": [
       "(3,)"
      ]
     },
     "execution_count": 3,
     "metadata": {},
     "output_type": "execute_result"
    }
   ],
   "source": [
    "A.shape # la forme du tableau (n lignes, m colonnes)"
   ]
  },
  {
   "cell_type": "code",
   "execution_count": 4,
   "id": "1de659e9",
   "metadata": {},
   "outputs": [
    {
     "data": {
      "text/plain": [
       "1"
      ]
     },
     "execution_count": 4,
     "metadata": {},
     "output_type": "execute_result"
    }
   ],
   "source": [
    "A.ndim # c'est le nombre de dimention du tableau"
   ]
  },
  {
   "cell_type": "code",
   "execution_count": 5,
   "id": "cb2e171b",
   "metadata": {},
   "outputs": [
    {
     "data": {
      "text/plain": [
       "3"
      ]
     },
     "execution_count": 5,
     "metadata": {},
     "output_type": "execute_result"
    }
   ],
   "source": [
    "A.size # la taille du tableau ou le nombre d'element du tableau"
   ]
  },
  {
   "cell_type": "code",
   "execution_count": 6,
   "id": "f0a44dd0",
   "metadata": {},
   "outputs": [
    {
     "data": {
      "text/plain": [
       "array([[0., 0.],\n",
       "       [0., 0.],\n",
       "       [0., 0.]])"
      ]
     },
     "execution_count": 6,
     "metadata": {},
     "output_type": "execute_result"
    }
   ],
   "source": [
    "B = np.zeros((3, 2)) # initialiser un tableau de 3 lignes et 2 colonnes ou une matrice contenant que des zéros.\n",
    "B"
   ]
  },
  {
   "cell_type": "code",
   "execution_count": 7,
   "id": "ff87d803",
   "metadata": {},
   "outputs": [
    {
     "data": {
      "text/plain": [
       "(3, 2)"
      ]
     },
     "execution_count": 7,
     "metadata": {},
     "output_type": "execute_result"
    }
   ],
   "source": [
    "B.shape"
   ]
  },
  {
   "cell_type": "code",
   "execution_count": 8,
   "id": "a0a220a0",
   "metadata": {},
   "outputs": [
    {
     "data": {
      "text/plain": [
       "2"
      ]
     },
     "execution_count": 8,
     "metadata": {},
     "output_type": "execute_result"
    }
   ],
   "source": [
    "B.ndim"
   ]
  },
  {
   "cell_type": "code",
   "execution_count": 10,
   "id": "7d410a43",
   "metadata": {},
   "outputs": [
    {
     "data": {
      "text/plain": [
       "array([[1., 1., 1., 1.],\n",
       "       [1., 1., 1., 1.],\n",
       "       [1., 1., 1., 1.]])"
      ]
     },
     "execution_count": 10,
     "metadata": {},
     "output_type": "execute_result"
    }
   ],
   "source": [
    "C = np.ones((3, 4)) #initialiser un tableau de 3 lignes et 2 colonnes ou une matrice ne contenant que des « 1 ».\n",
    "C"
   ]
  },
  {
   "cell_type": "code",
   "execution_count": 16,
   "id": "7f4d071c",
   "metadata": {},
   "outputs": [
    {
     "data": {
      "text/plain": [
       "array([[2, 2, 2, 2],\n",
       "       [2, 2, 2, 2]])"
      ]
     },
     "execution_count": 16,
     "metadata": {},
     "output_type": "execute_result"
    }
   ],
   "source": [
    "D = np.full((2, 4), 2) # qui remplie un tableau ou une matrice d'une seule valeur\n",
    "D"
   ]
  },
  {
   "cell_type": "code",
   "execution_count": 11,
   "id": "2c88d723",
   "metadata": {},
   "outputs": [
    {
     "data": {
      "text/plain": [
       "array([[ 1.76405235,  0.40015721],\n",
       "       [ 0.97873798,  2.2408932 ],\n",
       "       [ 1.86755799, -0.97727788]])"
      ]
     },
     "execution_count": 11,
     "metadata": {},
     "output_type": "execute_result"
    }
   ],
   "source": [
    "np.random.seed(0) # Pour garder les memes nombres aleatoires apres reexecution\n",
    "np.random.randn(3, 2) # Initialiser un tableau avec des nombres aleatoires univariée de moyenne 0 et de variance 1"
   ]
  },
  {
   "cell_type": "code",
   "execution_count": 19,
   "id": "f6cefc71",
   "metadata": {},
   "outputs": [
    {
     "data": {
      "text/plain": [
       "array([[1., 0., 0., 0., 0.],\n",
       "       [0., 1., 0., 0., 0.],\n",
       "       [0., 0., 1., 0., 0.],\n",
       "       [0., 0., 0., 1., 0.],\n",
       "       [0., 0., 0., 0., 1.]])"
      ]
     },
     "execution_count": 19,
     "metadata": {},
     "output_type": "execute_result"
    }
   ],
   "source": [
    "# Pour avoir la matrice d’identité, c’est-à-dire une matrice dont tous les éléments sont des zéros sauf pour la diagonale \n",
    "# qui contient des uns, on fait appel à la fonction eye(n).\n",
    "# Cette fonction renvoie un tableau carré de deux dimensions de taille n.\n",
    "\n",
    "np.eye(5) "
   ]
  },
  {
   "cell_type": "code",
   "execution_count": 20,
   "id": "8ff21b49",
   "metadata": {},
   "outputs": [
    {
     "data": {
      "text/plain": [
       "array([ 0.        ,  0.52631579,  1.05263158,  1.57894737,  2.10526316,\n",
       "        2.63157895,  3.15789474,  3.68421053,  4.21052632,  4.73684211,\n",
       "        5.26315789,  5.78947368,  6.31578947,  6.84210526,  7.36842105,\n",
       "        7.89473684,  8.42105263,  8.94736842,  9.47368421, 10.        ])"
      ]
     },
     "execution_count": 20,
     "metadata": {},
     "output_type": "execute_result"
    }
   ],
   "source": [
    "# Constructeur: linspace est un constructeur qui nous permet de creer un tableau à une dimention en précisant \n",
    "#  le début, la fin et le nombre d'element du tableau\n",
    "np.linspace(0, 10, 20) "
   ]
  },
  {
   "cell_type": "code",
   "execution_count": 22,
   "id": "ca50cc0a",
   "metadata": {},
   "outputs": [
    {
     "data": {
      "text/plain": [
       "array([0, 2, 4, 6, 8])"
      ]
     },
     "execution_count": 22,
     "metadata": {},
     "output_type": "execute_result"
    }
   ],
   "source": [
    "# Constructeur: arange est un constructeur qui nous permet de creer un tableau à une dimention en précisant \n",
    "#  le début, la fin et le pas entre les elements du tableau\n",
    "np.arange(0, 10, 2) "
   ]
  },
  {
   "cell_type": "code",
   "execution_count": 35,
   "id": "56d92bd5",
   "metadata": {},
   "outputs": [
    {
     "data": {
      "text/plain": [
       "array([1., 1., 1., 1., 1., 1.])"
      ]
     },
     "execution_count": 35,
     "metadata": {},
     "output_type": "execute_result"
    }
   ],
   "source": [
    "M = np.ones([3, 2])\n",
    "M.ravel()"
   ]
  },
  {
   "cell_type": "code",
   "execution_count": 28,
   "id": "a910518c",
   "metadata": {},
   "outputs": [
    {
     "data": {
      "text/plain": [
       "array([[0., 0.],\n",
       "       [0., 0.],\n",
       "       [0., 0.]])"
      ]
     },
     "execution_count": 28,
     "metadata": {},
     "output_type": "execute_result"
    }
   ],
   "source": [
    "L = np.zeros([3, 2])\n",
    "L"
   ]
  },
  {
   "cell_type": "code",
   "execution_count": 33,
   "id": "dda162b7",
   "metadata": {},
   "outputs": [
    {
     "name": "stdout",
     "output_type": "stream",
     "text": [
      "[[0. 0. 1. 1.]\n",
      " [0. 0. 1. 1.]\n",
      " [0. 0. 1. 1.]]\n"
     ]
    },
    {
     "data": {
      "text/plain": [
       "(3, 4)"
      ]
     },
     "execution_count": 33,
     "metadata": {},
     "output_type": "execute_result"
    }
   ],
   "source": [
    "N = np.hstack((L, M))\n",
    "print(N)\n",
    "N.shape"
   ]
  },
  {
   "cell_type": "code",
   "execution_count": 36,
   "id": "ef3d60dc",
   "metadata": {},
   "outputs": [
    {
     "data": {
      "text/plain": [
       "array([[1., 1.],\n",
       "       [1., 1.],\n",
       "       [1., 1.],\n",
       "       [0., 0.],\n",
       "       [0., 0.],\n",
       "       [0., 0.]])"
      ]
     },
     "execution_count": 36,
     "metadata": {},
     "output_type": "execute_result"
    }
   ],
   "source": [
    "np.vstack((M, L))\n"
   ]
  },
  {
   "cell_type": "code",
   "execution_count": 39,
   "id": "2019df33",
   "metadata": {},
   "outputs": [],
   "source": [
    "def initialisation(m, n):\n",
    "    W = np.random.randn(m, n)\n",
    "    W = np.concatenate((W, np.ones((W.shape[0], 1))), axis = 1)\n",
    "    return W"
   ]
  },
  {
   "cell_type": "code",
   "execution_count": 40,
   "id": "71ddc052",
   "metadata": {},
   "outputs": [
    {
     "data": {
      "text/plain": [
       "array([[ 0.95008842, -0.15135721, -0.10321885,  0.4105985 ,  1.        ],\n",
       "       [ 0.14404357,  1.45427351,  0.76103773,  0.12167502,  1.        ],\n",
       "       [ 0.44386323,  0.33367433,  1.49407907, -0.20515826,  1.        ]])"
      ]
     },
     "execution_count": 40,
     "metadata": {},
     "output_type": "execute_result"
    }
   ],
   "source": [
    "initialisation(3, 4)"
   ]
  },
  {
   "cell_type": "code",
   "execution_count": null,
   "id": "a07c6f66",
   "metadata": {},
   "outputs": [],
   "source": []
  }
 ],
 "metadata": {
  "kernelspec": {
   "display_name": "Python 3",
   "language": "python",
   "name": "python3"
  },
  "language_info": {
   "codemirror_mode": {
    "name": "ipython",
    "version": 3
   },
   "file_extension": ".py",
   "mimetype": "text/x-python",
   "name": "python",
   "nbconvert_exporter": "python",
   "pygments_lexer": "ipython3",
   "version": "3.8.8"
  }
 },
 "nbformat": 4,
 "nbformat_minor": 5
}
